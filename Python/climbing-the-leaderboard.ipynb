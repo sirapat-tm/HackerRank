{
 "cells": [
  {
   "cell_type": "code",
   "execution_count": 15,
   "metadata": {},
   "outputs": [
    {
     "name": "stdin",
     "output_type": "stream",
     "text": [
      " 7\n",
      " 100 100 50 40 40 20 10\n",
      " 4\n",
      " 5 25 50 120\n"
     ]
    }
   ],
   "source": [
    "ranked_count = int(input().strip())\n",
    "ranked = list(map(int, input().rstrip().split())) #desc\n",
    "\n",
    "player_count = int(input().strip())\n",
    "player = list(map(int, input().rstrip().split())) #asc\n",
    "\n",
    "#result = climbingLeaderboard(ranked, player)"
   ]
  },
  {
   "cell_type": "code",
   "execution_count": 70,
   "metadata": {},
   "outputs": [],
   "source": [
    "ranked = [100, 100, 50, 40, 40, 20, 10]\n",
    "player = [5, 25, 50, 120]"
   ]
  },
  {
   "cell_type": "code",
   "execution_count": 95,
   "metadata": {},
   "outputs": [],
   "source": [
    "def climbingLeaderboard(ranked, player):\n",
    "    leader = sorted(list(set(ranked)))\n",
    "    index = 0\n",
    "    rank_list = []\n",
    "    n = len(leader)\n",
    "    for item in player:\n",
    "        while (index<n and leader[index]<= item):\n",
    "            index = index + 1\n",
    "        rank_list.append(n+1-index) \n",
    "    return rank_list"
   ]
  },
  {
   "cell_type": "code",
   "execution_count": 96,
   "metadata": {},
   "outputs": [
    {
     "data": {
      "text/plain": [
       "[6, 4, 2, 1]"
      ]
     },
     "execution_count": 96,
     "metadata": {},
     "output_type": "execute_result"
    }
   ],
   "source": [
    "climbingLeaderboard(ranked, player)"
   ]
  },
  {
   "cell_type": "code",
   "execution_count": null,
   "metadata": {},
   "outputs": [],
   "source": []
  }
 ],
 "metadata": {
  "kernelspec": {
   "display_name": "Python 3",
   "language": "python",
   "name": "python3"
  },
  "language_info": {
   "codemirror_mode": {
    "name": "ipython",
    "version": 3
   },
   "file_extension": ".py",
   "mimetype": "text/x-python",
   "name": "python",
   "nbconvert_exporter": "python",
   "pygments_lexer": "ipython3",
   "version": "3.8.5"
  }
 },
 "nbformat": 4,
 "nbformat_minor": 4
}
