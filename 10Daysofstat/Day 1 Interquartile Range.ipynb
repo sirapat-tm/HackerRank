{
 "cells": [
  {
   "cell_type": "code",
   "execution_count": 42,
   "metadata": {},
   "outputs": [
    {
     "name": "stdout",
     "output_type": "stream",
     "text": [
      "6\n",
      "6 12 8 10 20 16\n",
      "5 4 3 2 1 5\n"
     ]
    }
   ],
   "source": [
    "n = int(input().strip())\n",
    "values = list(map(int, input().rstrip().split()))\n",
    "freqs = list(map(int, input().rstrip().split()))"
   ]
  },
  {
   "cell_type": "code",
   "execution_count": 50,
   "metadata": {},
   "outputs": [],
   "source": [
    "s = []\n",
    "for i in range(n):\n",
    "    s.append([values[i]]*freqs[i])"
   ]
  },
  {
   "cell_type": "code",
   "execution_count": 51,
   "metadata": {},
   "outputs": [
    {
     "data": {
      "text/plain": [
       "[[6, 6, 6, 6, 6],\n",
       " [12, 12, 12, 12],\n",
       " [8, 8, 8],\n",
       " [10, 10],\n",
       " [20],\n",
       " [16, 16, 16, 16, 16]]"
      ]
     },
     "execution_count": 51,
     "metadata": {},
     "output_type": "execute_result"
    }
   ],
   "source": [
    "s"
   ]
  },
  {
   "cell_type": "code",
   "execution_count": 52,
   "metadata": {},
   "outputs": [
    {
     "data": {
      "text/plain": [
       "[6, 6, 6, 6, 6, 12, 12, 12, 12, 8, 8, 8, 10, 10, 20, 16, 16, 16, 16, 16]"
      ]
     },
     "execution_count": 52,
     "metadata": {},
     "output_type": "execute_result"
    }
   ],
   "source": [
    "s = []\n",
    "for i in range(n):\n",
    "    s = s+([values[i]]*freqs[i])\n",
    "s"
   ]
  },
  {
   "cell_type": "code",
   "execution_count": 11,
   "metadata": {},
   "outputs": [],
   "source": [
    "import math\n",
    "\n",
    "def median(arr):\n",
    "    if len(arr)%2==0:\n",
    "        return (arr[math.floor(len(arr)/2)-1]+arr[math.floor(len(arr)/2)])/2\n",
    "    else: return arr[math.floor(len(arr)/2)]"
   ]
  },
  {
   "cell_type": "code",
   "execution_count": 75,
   "metadata": {},
   "outputs": [],
   "source": [
    "def interQuartile(values,freqs):\n",
    "    \n",
    "    arr = []\n",
    "    for i in range(n):\n",
    "        arr = arr+([values[i]]*freqs[i])\n",
    "        \n",
    "    sortarr = sorted(arr)\n",
    "    if len(sortarr)%2==0:\n",
    "        q1 = median(sortarr[0:len(arr)//2]) \n",
    "        q3 = median(sortarr[len(arr)//2:])\n",
    "    else :\n",
    "        q1 = median(sortarr[0:len(arr)//2])\n",
    "        q3 = median(sortarr[len(arr)//2+1:])\n",
    "    return print(\"%.1f\" %(q3-q1))"
   ]
  },
  {
   "cell_type": "code",
   "execution_count": 76,
   "metadata": {},
   "outputs": [
    {
     "name": "stdout",
     "output_type": "stream",
     "text": [
      "9.0\n"
     ]
    }
   ],
   "source": [
    "interQuartile(values,freqs)"
   ]
  },
  {
   "cell_type": "code",
   "execution_count": null,
   "metadata": {},
   "outputs": [],
   "source": []
  }
 ],
 "metadata": {
  "kernelspec": {
   "display_name": "Python 3",
   "language": "python",
   "name": "python3"
  },
  "language_info": {
   "codemirror_mode": {
    "name": "ipython",
    "version": 3
   },
   "file_extension": ".py",
   "mimetype": "text/x-python",
   "name": "python",
   "nbconvert_exporter": "python",
   "pygments_lexer": "ipython3",
   "version": "3.8.5"
  }
 },
 "nbformat": 4,
 "nbformat_minor": 4
}
