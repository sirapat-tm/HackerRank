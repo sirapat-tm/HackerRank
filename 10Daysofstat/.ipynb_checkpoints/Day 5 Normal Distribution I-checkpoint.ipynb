{
 "cells": [
  {
   "cell_type": "code",
   "execution_count": 9,
   "metadata": {},
   "outputs": [],
   "source": [
    "import math\n",
    "\n",
    "def norm(x,mu,sigma):\n",
    "    return math.exp(-(x-mu)**2/(2*sigma**2))/(mu*(2*math.pi)**0.5)\n",
    "    \n",
    "def stdnorm(x):\n",
    "    return norm(x,0,1)\n",
    "\n",
    "def cdfnorm(x,mu,sigma):\n",
    "    return 0.5 * (1 + math.erf((x - mu) / (sigma * (2 ** 0.5))))"
   ]
  },
  {
   "cell_type": "code",
   "execution_count": 12,
   "metadata": {},
   "outputs": [
    {
     "name": "stdin",
     "output_type": "stream",
     "text": [
      " 20 2\n",
      " 19.5\n",
      " 20 22\n"
     ]
    }
   ],
   "source": [
    "mu,sigma = map(float,input().split())\n",
    "q1 = float(input())\n",
    "q2 = list(map(float,input().split()))"
   ]
  },
  {
   "cell_type": "code",
   "execution_count": 5,
   "metadata": {},
   "outputs": [
    {
     "data": {
      "text/plain": [
       "[20.0, 22.0]"
      ]
     },
     "execution_count": 5,
     "metadata": {},
     "output_type": "execute_result"
    }
   ],
   "source": [
    "q2"
   ]
  },
  {
   "cell_type": "code",
   "execution_count": 13,
   "metadata": {},
   "outputs": [
    {
     "name": "stdout",
     "output_type": "stream",
     "text": [
      "0.401\n",
      "0.341\n"
     ]
    }
   ],
   "source": [
    "print(round(cdfnorm(q1,mu,sigma),3))\n",
    "print(round(cdfnorm(q2[1],mu,sigma)-cdfnorm(q2[0],mu,sigma),3))"
   ]
  },
  {
   "cell_type": "code",
   "execution_count": 8,
   "metadata": {},
   "outputs": [
    {
     "name": "stdout",
     "output_type": "stream",
     "text": [
      "0.401\n",
      "0.341\n"
     ]
    }
   ],
   "source": [
    "import math\n",
    "def normal(u,o,x):\n",
    "    return ((math.pi*2)**0.5*o)**-1*math.e**-((x-u)**2/(2*o**2))\n",
    "\n",
    "    \n",
    "def calculate_probability(low, high):\n",
    "    i, step, ans = low, 0.001, 0\n",
    "    ans = 0\n",
    "    while i < high:\n",
    "        ans += (normal(20,2,i)*step)\n",
    "        i += step\n",
    "    return round(ans,3)\n",
    "\n",
    "print(calculate_probability(0,19.5))\n",
    "print(calculate_probability(20,22))"
   ]
  },
  {
   "cell_type": "code",
   "execution_count": 14,
   "metadata": {},
   "outputs": [
    {
     "name": "stdin",
     "output_type": "stream",
     "text": [
      " 70 10\n",
      " 80\n",
      " 60\n"
     ]
    }
   ],
   "source": [
    "mu,sigma = map(float,input().split())\n",
    "q1 = float(input())\n",
    "q2 = float(input())"
   ]
  },
  {
   "cell_type": "code",
   "execution_count": 19,
   "metadata": {},
   "outputs": [
    {
     "name": "stdout",
     "output_type": "stream",
     "text": [
      "15.87\n",
      "84.13\n",
      "15.87\n"
     ]
    }
   ],
   "source": [
    "print(round((1-cdfnorm(q1,mu,sigma))*100,2))\n",
    "print(round((1-cdfnorm(q2,mu,sigma))*100,2))\n",
    "print(round(cdfnorm(q2,mu,sigma)*100,2))"
   ]
  },
  {
   "cell_type": "code",
   "execution_count": null,
   "metadata": {},
   "outputs": [],
   "source": []
  }
 ],
 "metadata": {
  "kernelspec": {
   "display_name": "Python 3",
   "language": "python",
   "name": "python3"
  },
  "language_info": {
   "codemirror_mode": {
    "name": "ipython",
    "version": 3
   },
   "file_extension": ".py",
   "mimetype": "text/x-python",
   "name": "python",
   "nbconvert_exporter": "python",
   "pygments_lexer": "ipython3",
   "version": "3.8.5"
  }
 },
 "nbformat": 4,
 "nbformat_minor": 4
}
