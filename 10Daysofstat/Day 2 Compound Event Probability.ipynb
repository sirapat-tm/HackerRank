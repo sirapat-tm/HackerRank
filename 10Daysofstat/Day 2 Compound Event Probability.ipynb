{
 "cells": [
  {
   "cell_type": "code",
   "execution_count": 21,
   "metadata": {},
   "outputs": [],
   "source": [
    "X = ['r']*4+['b']*3\n",
    "Y = ['r']*5+['b']*4\n",
    "Z = ['r']*4+['b']*4"
   ]
  },
  {
   "cell_type": "code",
   "execution_count": 22,
   "metadata": {},
   "outputs": [
    {
     "name": "stdout",
     "output_type": "stream",
     "text": [
      "['r', 'r', 'r', 'r', 'b', 'b', 'b']\n",
      "['r', 'r', 'r', 'r', 'r', 'b', 'b', 'b', 'b']\n",
      "['r', 'r', 'r', 'r', 'b', 'b', 'b', 'b']\n"
     ]
    }
   ],
   "source": [
    "print(X)\n",
    "print(Y)\n",
    "print(Z)"
   ]
  },
  {
   "cell_type": "code",
   "execution_count": 24,
   "metadata": {},
   "outputs": [
    {
     "data": {
      "text/plain": [
       "504"
      ]
     },
     "execution_count": 24,
     "metadata": {},
     "output_type": "execute_result"
    }
   ],
   "source": [
    "7*9*8"
   ]
  },
  {
   "cell_type": "code",
   "execution_count": 32,
   "metadata": {},
   "outputs": [
    {
     "data": {
      "text/plain": [
       "Fraction(17, 42)"
      ]
     },
     "execution_count": 32,
     "metadata": {},
     "output_type": "execute_result"
    }
   ],
   "source": [
    "import itertools\n",
    "from fractions import Fraction\n",
    "\n",
    "\n",
    "r = [(i)for i in itertools.product(X,Y,Z)]\n",
    "e = list(map(lambda x : x.count('r') == 2 and x.count('b') == 1,r))\n",
    "Fraction(e.count(True),len(e))"
   ]
  },
  {
   "cell_type": "code",
   "execution_count": 39,
   "metadata": {},
   "outputs": [
    {
     "data": {
      "text/plain": [
       "Fraction(17, 42)"
      ]
     },
     "execution_count": 39,
     "metadata": {},
     "output_type": "execute_result"
    }
   ],
   "source": [
    "urn_x = [1 if x=='r' else 0 for x in X]\n",
    "urn_y = [1 if x=='r' else 0 for x in Y]\n",
    "urn_z = [1 if x=='r' else 0 for x in Z]\n",
    "\n",
    "p = [x+y+z==2 for x in urn_x for y in urn_y for z in urn_z]\n",
    "\n",
    "Fraction(sum(p),len(p))"
   ]
  }
 ],
 "metadata": {
  "kernelspec": {
   "display_name": "Python 3",
   "language": "python",
   "name": "python3"
  },
  "language_info": {
   "codemirror_mode": {
    "name": "ipython",
    "version": 3
   },
   "file_extension": ".py",
   "mimetype": "text/x-python",
   "name": "python",
   "nbconvert_exporter": "python",
   "pygments_lexer": "ipython3",
   "version": "3.8.5"
  }
 },
 "nbformat": 4,
 "nbformat_minor": 4
}
