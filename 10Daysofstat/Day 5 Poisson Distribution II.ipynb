{
 "cells": [
  {
   "cell_type": "code",
   "execution_count": null,
   "metadata": {},
   "outputs": [],
   "source": [
    "import math\n",
    "def poiss(k,mu):\n",
    "    return (mu**k)*math.exp(-mu)/math.factorial(k)"
   ]
  },
  {
   "cell_type": "code",
   "execution_count": 1,
   "metadata": {},
   "outputs": [
    {
     "name": "stdin",
     "output_type": "stream",
     "text": [
      " 0.88 1.55\n"
     ]
    },
    {
     "name": "stdout",
     "output_type": "stream",
     "text": [
      "226.176\n",
      "286.1\n"
     ]
    }
   ],
   "source": [
    "# Input from stdin\n",
    "averageX, averageY = [float(num) for num in input().split(\" \")]\n",
    "\n",
    "# Cost\n",
    "CostX = 160 + 40*(averageX + averageX**2)\n",
    "CostY = 128 + 40*(averageY + averageY**2)\n",
    "\n",
    "print(round(CostX, 3))\n",
    "print(round(CostY, 3))"
   ]
  },
  {
   "cell_type": "code",
   "execution_count": null,
   "metadata": {},
   "outputs": [],
   "source": []
  }
 ],
 "metadata": {
  "kernelspec": {
   "display_name": "Python 3",
   "language": "python",
   "name": "python3"
  },
  "language_info": {
   "codemirror_mode": {
    "name": "ipython",
    "version": 3
   },
   "file_extension": ".py",
   "mimetype": "text/x-python",
   "name": "python",
   "nbconvert_exporter": "python",
   "pygments_lexer": "ipython3",
   "version": "3.8.5"
  }
 },
 "nbformat": 4,
 "nbformat_minor": 4
}
